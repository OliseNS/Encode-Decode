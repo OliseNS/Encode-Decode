{
  "cells": [
    {
      "cell_type": "markdown",
      "metadata": {
        "id": "view-in-github",
        "colab_type": "text"
      },
      "source": [
        "<a href=\"https://colab.research.google.com/github/OliseNS/Encode-Decode/blob/main/C3_c340.ipynb\" target=\"_parent\"><img src=\"https://colab.research.google.com/assets/colab-badge.svg\" alt=\"Open In Colab\"/></a>"
      ]
    },
    {
      "cell_type": "markdown",
      "metadata": {
        "id": "fg_nDavzF_KB"
      },
      "source": [
        "# <center>ASSIGNMENT 3<center>"
      ]
    },
    {
      "cell_type": "markdown",
      "metadata": {
        "id": "2-0zxGDeF_KE"
      },
      "source": [
        "<p>Team Name: Data Buddies\n",
        "<p>Student Names: Olisemeka Nmarkwe, Sujana Mehta, Kalendra Khadkha\n",
        "<p>Student W#s: 0762669, 0757459, _____ (Respectively)"
      ]
    },
    {
      "cell_type": "markdown",
      "metadata": {
        "id": "jZCc-BNpF_KE"
      },
      "source": [
        "## Instructions\n",
        "Use generic coding style unless hard-coded values are really necessary.<br>\n",
        "Your code must be efficient and use self-explanatory naming.<br>\n",
        "Use appropriate Python library methods for each task instead of using loops.<br>\n",
        "Run your entire code and save. Then submit this <b>saved</b> copy."
      ]
    },
    {
      "cell_type": "markdown",
      "metadata": {
        "collapsed": true,
        "id": "JKEKNNR6F_KF"
      },
      "source": [
        "## Imports"
      ]
    },
    {
      "cell_type": "code",
      "execution_count": 14,
      "metadata": {
        "collapsed": true,
        "id": "hcPLvqTvF_KF"
      },
      "outputs": [],
      "source": [
        "import pandas as pd\n",
        "import matplotlib.pyplot as plt"
      ]
    },
    {
      "cell_type": "markdown",
      "source": [],
      "metadata": {
        "id": "wKK2Ma2yJNic"
      }
    },
    {
      "cell_type": "markdown",
      "metadata": {
        "id": "423GeK_TF_KG"
      },
      "source": [
        "## Loading Data"
      ]
    },
    {
      "cell_type": "markdown",
      "metadata": {
        "collapsed": true,
        "id": "TD6Mko_qF_KG"
      },
      "source": [
        "Load \"titanic.csv\" into the data frame object \"data\"</br>\n",
        "[train.csv](https://github.com/wesm/pydata-book/blob/2nd-edition/datasets/titanic/train.csv)"
      ]
    },
    {
      "cell_type": "code",
      "execution_count": 15,
      "metadata": {
        "collapsed": true,
        "id": "VKm5aOKHF_KG"
      },
      "outputs": [],
      "source": [
        "#Used the raw link for the csv file\n",
        "url = 'https://raw.githubusercontent.com/wesm/pydata-book/2nd-edition/datasets/titanic/train.csv'\n",
        "data= pd.read_csv(url)"
      ]
    },
    {
      "cell_type": "markdown",
      "metadata": {
        "id": "lzg6Nnq6F_KG"
      },
      "source": [
        "## Data Processing"
      ]
    },
    {
      "cell_type": "markdown",
      "metadata": {
        "id": "M9dxsYVyF_KG"
      },
      "source": [
        "Create a data frame object \"pasUpto19\".\n",
        "> Columns of pasUpto19 = {AGE_12, AGE_TEEN, PCLASS}.<br>\n",
        "> AGE_12 : Passengers with age in \\[1, 12]<br>\n",
        "> AGE_TEEN : Passengers with age in \\[13, 19]<br>"
      ]
    },
    {
      "cell_type": "code",
      "execution_count": 16,
      "metadata": {
        "collapsed": true,
        "id": "a88ugxHSF_KH"
      },
      "outputs": [],
      "source": [
        "# Data Processing\n",
        "pasUpto19 = pd.DataFrame()\n",
        "\n",
        "# Use lambda function to create AGE_12 and AGE_TEEN columns\n",
        "pasUpto19['AGE_TEEN'] = data['Age'].apply(lambda age_teen: age_teen if 13 <= age_teen <= 19 else None)\n",
        "pasUpto19['AGE_12'] = data['Age'].apply(lambda age_12: age_12 if 1 <= age_12 < 13 else None)\n",
        "\n",
        "pasUpto19['PCLASS'] = data['Pclass']\n",
        "\n"
      ]
    },
    {
      "cell_type": "markdown",
      "metadata": {
        "id": "JZIbsC-EF_KH"
      },
      "source": [
        "Display 5 rows below and above the middle row of \"pasUpto19\":"
      ]
    },
    {
      "cell_type": "code",
      "execution_count": 17,
      "metadata": {
        "collapsed": true,
        "id": "bB_y38eTF_KH",
        "colab": {
          "base_uri": "https://localhost:8080/",
          "height": 394
        },
        "outputId": "b6635ec4-d003-45f8-b58f-d8571f70a2f3"
      },
      "outputs": [
        {
          "output_type": "display_data",
          "data": {
            "text/plain": [
              "     AGE_TEEN  AGE_12  PCLASS\n",
              "440       NaN     NaN       2\n",
              "441       NaN     NaN       3\n",
              "442       NaN     NaN       3\n",
              "443       NaN     NaN       2\n",
              "444       NaN     NaN       3\n",
              "445       NaN     4.0       1\n",
              "446      13.0     NaN       2\n",
              "447       NaN     NaN       1\n",
              "448       NaN     5.0       3\n",
              "449       NaN     NaN       1\n",
              "450       NaN     NaN       2"
            ],
            "text/html": [
              "\n",
              "  <div id=\"df-65eaa38b-d506-40c9-b50c-95ffca9e0045\" class=\"colab-df-container\">\n",
              "    <div>\n",
              "<style scoped>\n",
              "    .dataframe tbody tr th:only-of-type {\n",
              "        vertical-align: middle;\n",
              "    }\n",
              "\n",
              "    .dataframe tbody tr th {\n",
              "        vertical-align: top;\n",
              "    }\n",
              "\n",
              "    .dataframe thead th {\n",
              "        text-align: right;\n",
              "    }\n",
              "</style>\n",
              "<table border=\"1\" class=\"dataframe\">\n",
              "  <thead>\n",
              "    <tr style=\"text-align: right;\">\n",
              "      <th></th>\n",
              "      <th>AGE_TEEN</th>\n",
              "      <th>AGE_12</th>\n",
              "      <th>PCLASS</th>\n",
              "    </tr>\n",
              "  </thead>\n",
              "  <tbody>\n",
              "    <tr>\n",
              "      <th>440</th>\n",
              "      <td>NaN</td>\n",
              "      <td>NaN</td>\n",
              "      <td>2</td>\n",
              "    </tr>\n",
              "    <tr>\n",
              "      <th>441</th>\n",
              "      <td>NaN</td>\n",
              "      <td>NaN</td>\n",
              "      <td>3</td>\n",
              "    </tr>\n",
              "    <tr>\n",
              "      <th>442</th>\n",
              "      <td>NaN</td>\n",
              "      <td>NaN</td>\n",
              "      <td>3</td>\n",
              "    </tr>\n",
              "    <tr>\n",
              "      <th>443</th>\n",
              "      <td>NaN</td>\n",
              "      <td>NaN</td>\n",
              "      <td>2</td>\n",
              "    </tr>\n",
              "    <tr>\n",
              "      <th>444</th>\n",
              "      <td>NaN</td>\n",
              "      <td>NaN</td>\n",
              "      <td>3</td>\n",
              "    </tr>\n",
              "    <tr>\n",
              "      <th>445</th>\n",
              "      <td>NaN</td>\n",
              "      <td>4.0</td>\n",
              "      <td>1</td>\n",
              "    </tr>\n",
              "    <tr>\n",
              "      <th>446</th>\n",
              "      <td>13.0</td>\n",
              "      <td>NaN</td>\n",
              "      <td>2</td>\n",
              "    </tr>\n",
              "    <tr>\n",
              "      <th>447</th>\n",
              "      <td>NaN</td>\n",
              "      <td>NaN</td>\n",
              "      <td>1</td>\n",
              "    </tr>\n",
              "    <tr>\n",
              "      <th>448</th>\n",
              "      <td>NaN</td>\n",
              "      <td>5.0</td>\n",
              "      <td>3</td>\n",
              "    </tr>\n",
              "    <tr>\n",
              "      <th>449</th>\n",
              "      <td>NaN</td>\n",
              "      <td>NaN</td>\n",
              "      <td>1</td>\n",
              "    </tr>\n",
              "    <tr>\n",
              "      <th>450</th>\n",
              "      <td>NaN</td>\n",
              "      <td>NaN</td>\n",
              "      <td>2</td>\n",
              "    </tr>\n",
              "  </tbody>\n",
              "</table>\n",
              "</div>\n",
              "    <div class=\"colab-df-buttons\">\n",
              "\n",
              "  <div class=\"colab-df-container\">\n",
              "    <button class=\"colab-df-convert\" onclick=\"convertToInteractive('df-65eaa38b-d506-40c9-b50c-95ffca9e0045')\"\n",
              "            title=\"Convert this dataframe to an interactive table.\"\n",
              "            style=\"display:none;\">\n",
              "\n",
              "  <svg xmlns=\"http://www.w3.org/2000/svg\" height=\"24px\" viewBox=\"0 -960 960 960\">\n",
              "    <path d=\"M120-120v-720h720v720H120Zm60-500h600v-160H180v160Zm220 220h160v-160H400v160Zm0 220h160v-160H400v160ZM180-400h160v-160H180v160Zm440 0h160v-160H620v160ZM180-180h160v-160H180v160Zm440 0h160v-160H620v160Z\"/>\n",
              "  </svg>\n",
              "    </button>\n",
              "\n",
              "  <style>\n",
              "    .colab-df-container {\n",
              "      display:flex;\n",
              "      gap: 12px;\n",
              "    }\n",
              "\n",
              "    .colab-df-convert {\n",
              "      background-color: #E8F0FE;\n",
              "      border: none;\n",
              "      border-radius: 50%;\n",
              "      cursor: pointer;\n",
              "      display: none;\n",
              "      fill: #1967D2;\n",
              "      height: 32px;\n",
              "      padding: 0 0 0 0;\n",
              "      width: 32px;\n",
              "    }\n",
              "\n",
              "    .colab-df-convert:hover {\n",
              "      background-color: #E2EBFA;\n",
              "      box-shadow: 0px 1px 2px rgba(60, 64, 67, 0.3), 0px 1px 3px 1px rgba(60, 64, 67, 0.15);\n",
              "      fill: #174EA6;\n",
              "    }\n",
              "\n",
              "    .colab-df-buttons div {\n",
              "      margin-bottom: 4px;\n",
              "    }\n",
              "\n",
              "    [theme=dark] .colab-df-convert {\n",
              "      background-color: #3B4455;\n",
              "      fill: #D2E3FC;\n",
              "    }\n",
              "\n",
              "    [theme=dark] .colab-df-convert:hover {\n",
              "      background-color: #434B5C;\n",
              "      box-shadow: 0px 1px 3px 1px rgba(0, 0, 0, 0.15);\n",
              "      filter: drop-shadow(0px 1px 2px rgba(0, 0, 0, 0.3));\n",
              "      fill: #FFFFFF;\n",
              "    }\n",
              "  </style>\n",
              "\n",
              "    <script>\n",
              "      const buttonEl =\n",
              "        document.querySelector('#df-65eaa38b-d506-40c9-b50c-95ffca9e0045 button.colab-df-convert');\n",
              "      buttonEl.style.display =\n",
              "        google.colab.kernel.accessAllowed ? 'block' : 'none';\n",
              "\n",
              "      async function convertToInteractive(key) {\n",
              "        const element = document.querySelector('#df-65eaa38b-d506-40c9-b50c-95ffca9e0045');\n",
              "        const dataTable =\n",
              "          await google.colab.kernel.invokeFunction('convertToInteractive',\n",
              "                                                    [key], {});\n",
              "        if (!dataTable) return;\n",
              "\n",
              "        const docLinkHtml = 'Like what you see? Visit the ' +\n",
              "          '<a target=\"_blank\" href=https://colab.research.google.com/notebooks/data_table.ipynb>data table notebook</a>'\n",
              "          + ' to learn more about interactive tables.';\n",
              "        element.innerHTML = '';\n",
              "        dataTable['output_type'] = 'display_data';\n",
              "        await google.colab.output.renderOutput(dataTable, element);\n",
              "        const docLink = document.createElement('div');\n",
              "        docLink.innerHTML = docLinkHtml;\n",
              "        element.appendChild(docLink);\n",
              "      }\n",
              "    </script>\n",
              "  </div>\n",
              "\n",
              "\n",
              "<div id=\"df-fba27505-5bd0-488d-ab04-a3694cd12408\">\n",
              "  <button class=\"colab-df-quickchart\" onclick=\"quickchart('df-fba27505-5bd0-488d-ab04-a3694cd12408')\"\n",
              "            title=\"Suggest charts.\"\n",
              "            style=\"display:none;\">\n",
              "\n",
              "<svg xmlns=\"http://www.w3.org/2000/svg\" height=\"24px\"viewBox=\"0 0 24 24\"\n",
              "     width=\"24px\">\n",
              "    <g>\n",
              "        <path d=\"M19 3H5c-1.1 0-2 .9-2 2v14c0 1.1.9 2 2 2h14c1.1 0 2-.9 2-2V5c0-1.1-.9-2-2-2zM9 17H7v-7h2v7zm4 0h-2V7h2v10zm4 0h-2v-4h2v4z\"/>\n",
              "    </g>\n",
              "</svg>\n",
              "  </button>\n",
              "\n",
              "<style>\n",
              "  .colab-df-quickchart {\n",
              "      --bg-color: #E8F0FE;\n",
              "      --fill-color: #1967D2;\n",
              "      --hover-bg-color: #E2EBFA;\n",
              "      --hover-fill-color: #174EA6;\n",
              "      --disabled-fill-color: #AAA;\n",
              "      --disabled-bg-color: #DDD;\n",
              "  }\n",
              "\n",
              "  [theme=dark] .colab-df-quickchart {\n",
              "      --bg-color: #3B4455;\n",
              "      --fill-color: #D2E3FC;\n",
              "      --hover-bg-color: #434B5C;\n",
              "      --hover-fill-color: #FFFFFF;\n",
              "      --disabled-bg-color: #3B4455;\n",
              "      --disabled-fill-color: #666;\n",
              "  }\n",
              "\n",
              "  .colab-df-quickchart {\n",
              "    background-color: var(--bg-color);\n",
              "    border: none;\n",
              "    border-radius: 50%;\n",
              "    cursor: pointer;\n",
              "    display: none;\n",
              "    fill: var(--fill-color);\n",
              "    height: 32px;\n",
              "    padding: 0;\n",
              "    width: 32px;\n",
              "  }\n",
              "\n",
              "  .colab-df-quickchart:hover {\n",
              "    background-color: var(--hover-bg-color);\n",
              "    box-shadow: 0 1px 2px rgba(60, 64, 67, 0.3), 0 1px 3px 1px rgba(60, 64, 67, 0.15);\n",
              "    fill: var(--button-hover-fill-color);\n",
              "  }\n",
              "\n",
              "  .colab-df-quickchart-complete:disabled,\n",
              "  .colab-df-quickchart-complete:disabled:hover {\n",
              "    background-color: var(--disabled-bg-color);\n",
              "    fill: var(--disabled-fill-color);\n",
              "    box-shadow: none;\n",
              "  }\n",
              "\n",
              "  .colab-df-spinner {\n",
              "    border: 2px solid var(--fill-color);\n",
              "    border-color: transparent;\n",
              "    border-bottom-color: var(--fill-color);\n",
              "    animation:\n",
              "      spin 1s steps(1) infinite;\n",
              "  }\n",
              "\n",
              "  @keyframes spin {\n",
              "    0% {\n",
              "      border-color: transparent;\n",
              "      border-bottom-color: var(--fill-color);\n",
              "      border-left-color: var(--fill-color);\n",
              "    }\n",
              "    20% {\n",
              "      border-color: transparent;\n",
              "      border-left-color: var(--fill-color);\n",
              "      border-top-color: var(--fill-color);\n",
              "    }\n",
              "    30% {\n",
              "      border-color: transparent;\n",
              "      border-left-color: var(--fill-color);\n",
              "      border-top-color: var(--fill-color);\n",
              "      border-right-color: var(--fill-color);\n",
              "    }\n",
              "    40% {\n",
              "      border-color: transparent;\n",
              "      border-right-color: var(--fill-color);\n",
              "      border-top-color: var(--fill-color);\n",
              "    }\n",
              "    60% {\n",
              "      border-color: transparent;\n",
              "      border-right-color: var(--fill-color);\n",
              "    }\n",
              "    80% {\n",
              "      border-color: transparent;\n",
              "      border-right-color: var(--fill-color);\n",
              "      border-bottom-color: var(--fill-color);\n",
              "    }\n",
              "    90% {\n",
              "      border-color: transparent;\n",
              "      border-bottom-color: var(--fill-color);\n",
              "    }\n",
              "  }\n",
              "</style>\n",
              "\n",
              "  <script>\n",
              "    async function quickchart(key) {\n",
              "      const quickchartButtonEl =\n",
              "        document.querySelector('#' + key + ' button');\n",
              "      quickchartButtonEl.disabled = true;  // To prevent multiple clicks.\n",
              "      quickchartButtonEl.classList.add('colab-df-spinner');\n",
              "      try {\n",
              "        const charts = await google.colab.kernel.invokeFunction(\n",
              "            'suggestCharts', [key], {});\n",
              "      } catch (error) {\n",
              "        console.error('Error during call to suggestCharts:', error);\n",
              "      }\n",
              "      quickchartButtonEl.classList.remove('colab-df-spinner');\n",
              "      quickchartButtonEl.classList.add('colab-df-quickchart-complete');\n",
              "    }\n",
              "    (() => {\n",
              "      let quickchartButtonEl =\n",
              "        document.querySelector('#df-fba27505-5bd0-488d-ab04-a3694cd12408 button');\n",
              "      quickchartButtonEl.style.display =\n",
              "        google.colab.kernel.accessAllowed ? 'block' : 'none';\n",
              "    })();\n",
              "  </script>\n",
              "</div>\n",
              "    </div>\n",
              "  </div>\n"
            ]
          },
          "metadata": {}
        }
      ],
      "source": [
        "middle_index = len(pasUpto19) // 2\n",
        "display(pasUpto19.iloc[middle_index - 5 : middle_index + 6])"
      ]
    },
    {
      "cell_type": "markdown",
      "metadata": {
        "id": "Y45TM5AEF_KH"
      },
      "source": [
        "Group pasUpto19 by AGE_TEEN:"
      ]
    },
    {
      "cell_type": "code",
      "execution_count": 18,
      "metadata": {
        "collapsed": true,
        "id": "vISPFRSZF_KI"
      },
      "outputs": [],
      "source": [
        "group = pasUpto19.groupby(['AGE_TEEN'], sort=False)"
      ]
    },
    {
      "cell_type": "markdown",
      "metadata": {
        "id": "ecCnQy1eF_KI"
      },
      "source": [
        "Get the mean of PCLASS for each group of AGE_TEEN and display the mean by age groups:"
      ]
    },
    {
      "cell_type": "code",
      "execution_count": 19,
      "metadata": {
        "collapsed": true,
        "id": "R3zeUdFFF_KI",
        "colab": {
          "base_uri": "https://localhost:8080/"
        },
        "outputId": "7930f736-70d5-488b-ded0-16024864bf56"
      },
      "outputs": [
        {
          "output_type": "stream",
          "name": "stdout",
          "text": [
            "AGE_TEEN\n",
            "14.0    2.500000\n",
            "15.0    2.600000\n",
            "19.0    2.360000\n",
            "18.0    2.461538\n",
            "17.0    2.384615\n",
            "16.0    2.529412\n",
            "14.5    3.000000\n",
            "13.0    2.500000\n",
            "Name: PCLASS, dtype: float64\n"
          ]
        }
      ],
      "source": [
        "#mean_pclass = group['PCLASS'].mean()\n",
        "mean_pclass = group.PCLASS.mean()\n",
        "\n",
        "print(mean_pclass)\n"
      ]
    },
    {
      "cell_type": "markdown",
      "metadata": {
        "id": "n3YO_7_kF_KI"
      },
      "source": [
        "Sort \"pasUpto19\" by the age of teenages and store into a DF object \"pasUpto19_sortTeen\":"
      ]
    },
    {
      "cell_type": "code",
      "execution_count": 20,
      "metadata": {
        "collapsed": true,
        "id": "IzIZY3oTF_KI"
      },
      "outputs": [],
      "source": [
        "pasUpto19_sortTeen = pasUpto19.sort_values(by='AGE_TEEN')"
      ]
    },
    {
      "cell_type": "markdown",
      "metadata": {
        "id": "VaZjKxfRF_KI"
      },
      "source": [
        "## Summarize Data"
      ]
    },
    {
      "cell_type": "markdown",
      "metadata": {
        "id": "3SZ05sxWF_KJ"
      },
      "source": [
        "Create \"pasUpto19_stat\" an object from the statistics of pasUpto19. Use the method describe(). Print the statistics."
      ]
    },
    {
      "cell_type": "code",
      "execution_count": 21,
      "metadata": {
        "id": "ZoP8u7KvF_KJ",
        "colab": {
          "base_uri": "https://localhost:8080/"
        },
        "outputId": "9be654ae-0fce-4d41-accd-4e0c4bd0802d"
      },
      "outputs": [
        {
          "output_type": "stream",
          "name": "stdout",
          "text": [
            "        AGE_TEEN     AGE_12      PCLASS\n",
            "count  95.000000  62.000000  891.000000\n",
            "mean   17.215789   5.225806    2.308642\n",
            "std     1.633513   3.276440    0.836071\n",
            "min    13.000000   1.000000    1.000000\n",
            "25%    16.000000   2.000000    2.000000\n",
            "50%    18.000000   4.000000    3.000000\n",
            "75%    19.000000   8.000000    3.000000\n",
            "max    19.000000  12.000000    3.000000\n"
          ]
        }
      ],
      "source": [
        "pasUpto19_stat = pasUpto19.describe()\n",
        "print(pasUpto19_stat)\n"
      ]
    },
    {
      "cell_type": "markdown",
      "metadata": {
        "id": "BYqd_WuHF_KJ"
      },
      "source": [
        "Store each statistics of pasUpto19_stat into a multi-dimensional list \"pasUpto19_stat_lst\" individually. Print the list."
      ]
    },
    {
      "cell_type": "code",
      "execution_count": 22,
      "metadata": {
        "id": "qoW5aun9F_KJ",
        "colab": {
          "base_uri": "https://localhost:8080/"
        },
        "outputId": "fbbec47e-c290-4d1d-927f-8a9a09d67308"
      },
      "outputs": [
        {
          "output_type": "stream",
          "name": "stdout",
          "text": [
            "[[95.0, 62.0, 891.0], [17.21578947368421, 5.225806451612903, 2.308641975308642], [1.6335131041990896, 3.2764402656517215, 0.836071240977049], [13.0, 1.0, 1.0], [16.0, 2.0, 2.0], [18.0, 4.0, 3.0], [19.0, 8.0, 3.0], [19.0, 12.0, 3.0]]\n"
          ]
        }
      ],
      "source": [
        "pasUpto19_stat_lst = pasUpto19_stat.values.tolist()\n",
        "print(pasUpto19_stat_lst)"
      ]
    },
    {
      "cell_type": "markdown",
      "metadata": {
        "id": "23_3qx3hF_KJ"
      },
      "source": [
        "Print rows where AGE_12 >= mean of AGE_12 or AGE_TEEN >= mean AGE_TEEN."
      ]
    },
    {
      "cell_type": "code",
      "execution_count": 23,
      "metadata": {
        "collapsed": true,
        "id": "NRCVyaVKF_KJ",
        "colab": {
          "base_uri": "https://localhost:8080/"
        },
        "outputId": "fefd6ff3-d626-47c1-aecf-db22b0cdb057"
      },
      "outputs": [
        {
          "output_type": "stream",
          "name": "stdout",
          "text": [
            "     AGE_TEEN  AGE_12  PCLASS\n",
            "24        NaN     8.0       3\n",
            "27       19.0     NaN       1\n",
            "38       18.0     NaN       3\n",
            "44       19.0     NaN       3\n",
            "49       18.0     NaN       3\n",
            "..        ...     ...     ...\n",
            "834      18.0     NaN       3\n",
            "852       NaN     9.0       3\n",
            "855      18.0     NaN       3\n",
            "877      19.0     NaN       3\n",
            "887      19.0     NaN       1\n",
            "\n",
            "[76 rows x 3 columns]\n"
          ]
        }
      ],
      "source": [
        "mean_age_12 = pasUpto19['AGE_12'].mean()\n",
        "mean_age_teen = pasUpto19['AGE_TEEN'].mean()\n",
        "print(pasUpto19[(pasUpto19['AGE_12'] >= mean_age_12) | (pasUpto19['AGE_TEEN'] >= mean_age_teen)])"
      ]
    },
    {
      "cell_type": "markdown",
      "metadata": {
        "collapsed": true,
        "id": "2LyPum5_F_KJ"
      },
      "source": [
        "## Use of method \"eval(Age ...)\""
      ]
    },
    {
      "cell_type": "markdown",
      "metadata": {
        "collapsed": true,
        "id": "2TSk5iawF_KK"
      },
      "source": [
        "<b>Sample Code Snippet:</b><br>\n",
        "<p>\n",
        "df = pd.DataFrame({'A': range(1, 6), 'B': range(10, 0, -2)})\n",
        "\n",
        "df.eval('C = A + B')\n",
        "</p>"
      ]
    },
    {
      "cell_type": "markdown",
      "metadata": {
        "id": "2-LochlIF_KK"
      },
      "source": [
        "Get passengers whose age is in \\[3,7) or in \\[12, 15] and store into \"pas3to6_12to15\":"
      ]
    },
    {
      "cell_type": "code",
      "source": [
        "data.eval('AgeFilter = (Age >= 3 and Age < 7) or (Age >= 12 and Age <= 15)', inplace=True)\n",
        "\n",
        "# Create the \"pas3to6_12to15\" DataFrame by filtering based on the \"AgeFilter\"\n",
        "pas3to6_12to15 = data[data['AgeFilter']][['Age', 'Pclass']]\n",
        "\n",
        "pas3to6_12to15.rename(columns={'Age': 'AGE_3to15', 'Pclass': 'PCLASS'}, inplace=True)\n",
        "\n",
        "# Print the first few rows of the \"pas3to6_12to15\" DataFrame\n",
        "print(pas3to6_12to15.head())\n"
      ],
      "metadata": {
        "colab": {
          "base_uri": "https://localhost:8080/"
        },
        "id": "lVWGYVyMQpJ7",
        "outputId": "449b508a-23be-4a8c-d20e-7f3351c6336d"
      },
      "execution_count": 24,
      "outputs": [
        {
          "output_type": "stream",
          "name": "stdout",
          "text": [
            "    AGE_3to15  PCLASS\n",
            "9        14.0       2\n",
            "10        4.0       3\n",
            "14       14.0       3\n",
            "22       15.0       3\n",
            "39       14.0       3\n"
          ]
        }
      ]
    },
    {
      "cell_type": "markdown",
      "metadata": {
        "id": "MtgPgFa7F_KK"
      },
      "source": [
        "## Plots"
      ]
    },
    {
      "cell_type": "markdown",
      "metadata": {
        "id": "yFDtlf4QF_KK"
      },
      "source": [
        "Create a figure \"Plots for Pclass and Age\"<br>\n",
        "Plot histograms for \"PCLASS\", \"AGE_12\", and \"AGE_TEEN\" side by side:"
      ]
    },
    {
      "cell_type": "code",
      "execution_count": 25,
      "metadata": {
        "collapsed": true,
        "id": "mNXAlxgpF_KK",
        "colab": {
          "base_uri": "https://localhost:8080/",
          "height": 407
        },
        "outputId": "fab583ad-9afa-4cac-9626-8cdba2cce4dd"
      },
      "outputs": [
        {
          "output_type": "display_data",
          "data": {
            "text/plain": [
              "<Figure size 1200x400 with 3 Axes>"
            ],
            "image/png": "[encoded data removed]"
          },
          "metadata": {}
        }
      ],
      "source": [
        "# Create subplots for side-by-side histograms\n",
        "plt.figure(figsize=(12, 4))\n",
        "\n",
        "# Plot histogram for 'PCLASS'\n",
        "plt.subplot(1, 3, 1)\n",
        "plt.hist(pasUpto19['PCLASS'], bins=3, color='skyblue', edgecolor='black')\n",
        "plt.title('PCLASS Histogram')\n",
        "plt.xlabel('PCLASS')\n",
        "plt.ylabel('Count')\n",
        "\n",
        "# Plot histogram for 'AGE_12'\n",
        "plt.subplot(1, 3, 2)\n",
        "plt.hist(pasUpto19['AGE_12'], bins=10, color='lightcoral', edgecolor='black')\n",
        "plt.title('AGE_12 Histogram')\n",
        "plt.xlabel('AGE_12')\n",
        "plt.ylabel('Count')\n",
        "\n",
        "# Plot histogram for 'AGE_TEEN'\n",
        "plt.subplot(1, 3, 3)\n",
        "plt.hist(pasUpto19['AGE_TEEN'], bins=7, color='lightgreen', edgecolor='black')\n",
        "plt.title('AGE_TEEN Histogram')\n",
        "plt.xlabel('AGE_TEEN')\n",
        "plt.ylabel('Count')\n",
        "\n",
        "plt.tight_layout()  # Adjusts subplot layout for better spacing\n",
        "\n",
        "# Show the figure\n",
        "plt.show()\n"
      ]
    },
    {
      "cell_type": "markdown",
      "metadata": {
        "id": "QgD8C4uIF_KL"
      },
      "source": [
        "Add a scatter plot for \"PCLASS\" vs. \"AGE_12\" into the first cell and \"PCLASS\" vs. \"AGE_TEEN\" into the last cell on the same figure at the second row:"
      ]
    },
    {
      "cell_type": "code",
      "execution_count": 26,
      "metadata": {
        "id": "Kds0Jf22F_KL",
        "colab": {
          "base_uri": "https://localhost:8080/",
          "height": 564
        },
        "outputId": "14b5f3dd-737f-4392-9a6e-93d53852aac5"
      },
      "outputs": [
        {
          "output_type": "display_data",
          "data": {
            "text/plain": [
              "<Figure size 800x600 with 1 Axes>"
            ],
            "image/png": "[encoded data removed]"
          },
          "metadata": {}
        }
      ],
      "source": [
        "# Create a single subplot for both scatter plots\n",
        "plt.figure(figsize=(8, 6))\n",
        "\n",
        "# Scatter plot for 'PCLASS' vs. 'AGE_12'\n",
        "plt.scatter(pasUpto19['PCLASS'], pasUpto19['AGE_12'], color='lightcoral', edgecolors='black', label='AGE_12')\n",
        "\n",
        "# Scatter plot for 'PCLASS' vs. 'AGE_TEEN'\n",
        "plt.scatter(pasUpto19['PCLASS'], pasUpto19['AGE_TEEN'], color='lightgreen', edgecolors='black', label='AGE_TEEN')\n",
        "\n",
        "plt.title('PCLASS vs. Age')\n",
        "plt.xlabel('PCLASS')\n",
        "plt.ylabel('Age')\n",
        "plt.legend()\n",
        "\n",
        "# Show the figure\n",
        "plt.show()"
      ]
    },
    {
      "cell_type": "markdown",
      "metadata": {
        "collapsed": true,
        "id": "eNCsR-aaF_KL"
      },
      "source": [
        "## <center> REFERENCES </center>\n",
        "List resources (book, internet page, etc.) that you used to complete this challenge.\n",
        "\n",
        "\n",
        "*   Official Python Documentation.\n",
        "*   Pandas Documentation.\n",
        "\n",
        "\n",
        "\n"
      ]
    }
  ],
  "metadata": {
    "kernelspec": {
      "display_name": "Python 3 (ipykernel)",
      "language": "python",
      "name": "python3"
    },
    "language_info": {
      "codemirror_mode": {
        "name": "ipython",
        "version": 3
      },
      "file_extension": ".py",
      "mimetype": "text/x-python",
      "name": "python",
      "nbconvert_exporter": "python",
      "pygments_lexer": "ipython3",
      "version": "3.11.4"
    },
    "colab": {
      "provenance": [],
      "include_colab_link": true
    }
  },
  "nbformat": 4,
  "nbformat_minor": 0
}